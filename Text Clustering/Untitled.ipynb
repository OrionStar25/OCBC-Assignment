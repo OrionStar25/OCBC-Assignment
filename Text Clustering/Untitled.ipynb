{
 "cells": [
  {
   "cell_type": "code",
   "execution_count": 1,
   "id": "e4695d0f",
   "metadata": {},
   "outputs": [
    {
     "name": "stderr",
     "output_type": "stream",
     "text": [
      "/usr/local/lib/python3.9/site-packages/past/builtins/misc.py:45: DeprecationWarning: the imp module is deprecated in favour of importlib; see the module's documentation for alternative uses\n",
      "  from imp import reload\n",
      "/usr/local/lib/python3.9/site-packages/gensim/matutils.py:24: DeprecationWarning: Please use `triu` from the `scipy.linalg` namespace, the `scipy.linalg.special_matrices` namespace is deprecated.\n",
      "  from scipy.linalg.special_matrices import triu\n",
      "[nltk_data] Downloading package stopwords to\n",
      "[nltk_data]     /Users/niharikashrivastava/nltk_data...\n",
      "[nltk_data]   Package stopwords is already up-to-date!\n",
      "[nltk_data] Downloading package punkt to\n",
      "[nltk_data]     /Users/niharikashrivastava/nltk_data...\n",
      "[nltk_data]   Package punkt is already up-to-date!\n",
      "[nltk_data] Downloading package wordnet to\n",
      "[nltk_data]     /Users/niharikashrivastava/nltk_data...\n",
      "[nltk_data]   Package wordnet is already up-to-date!\n",
      "[nltk_data] Downloading package omw-1.4 to\n",
      "[nltk_data]     /Users/niharikashrivastava/nltk_data...\n",
      "[nltk_data]   Package omw-1.4 is already up-to-date!\n"
     ]
    }
   ],
   "source": [
    "import pandas as pd\n",
    "import seaborn as sns\n",
    "import nltk\n",
    "import sklearn\n",
    "import pyLDAvis.gensim_models\n",
    "import pkg_resources\n",
    "pkg_resources.require(\"gensim==3.8.3\")\n",
    "import gensim\n",
    "import matplotlib.pyplot as plt \n",
    "\n",
    "nltk.download('stopwords')\n",
    "nltk.download('punkt')\n",
    "nltk.download('wordnet')\n",
    "nltk.download('omw-1.4')\n",
    "\n",
    "from nltk.corpus import stopwords\n",
    "from nltk.stem import WordNetLemmatizer,PorterStemmer\n",
    "from nltk.tokenize import word_tokenize\n",
    "from collections import  Counter\n",
    "from sklearn.feature_extraction.text import CountVectorizer\n",
    "from gensim.models import CoherenceModel\n",
    "from pprint import pprint"
   ]
  },
  {
   "cell_type": "code",
   "execution_count": 2,
   "id": "238e87c8",
   "metadata": {},
   "outputs": [],
   "source": [
    "news_data = pd.read_csv('news_data.csv')"
   ]
  },
  {
   "cell_type": "code",
   "execution_count": 19,
   "id": "ab2b28ac",
   "metadata": {},
   "outputs": [],
   "source": [
    "  coherence_values_hash = {'u_mass': [], 'c_v': [], 'c_uci': [], 'c_npmi': []}"
   ]
  },
  {
   "cell_type": "code",
   "execution_count": 22,
   "id": "5b172517",
   "metadata": {},
   "outputs": [
    {
     "data": {
      "text/plain": [
       "{'u_mass': [], 'c_v': [], 'c_uci': [3], 'c_npmi': []}"
      ]
     },
     "execution_count": 22,
     "metadata": {},
     "output_type": "execute_result"
    }
   ],
   "source": [
    "coherence_values_hash"
   ]
  },
  {
   "cell_type": "code",
   "execution_count": 21,
   "id": "95a76348",
   "metadata": {},
   "outputs": [],
   "source": [
    "coherence_values_hash['c_uci'].append(3)"
   ]
  },
  {
   "cell_type": "code",
   "execution_count": 17,
   "id": "368de8a8",
   "metadata": {},
   "outputs": [],
   "source": [
    "x['ucm'].append(5)"
   ]
  },
  {
   "cell_type": "code",
   "execution_count": 18,
   "id": "5b760966",
   "metadata": {},
   "outputs": [
    {
     "data": {
      "text/plain": [
       "{'ucm': [5]}"
      ]
     },
     "execution_count": 18,
     "metadata": {},
     "output_type": "execute_result"
    }
   ],
   "source": [
    "x"
   ]
  },
  {
   "cell_type": "code",
   "execution_count": null,
   "id": "cc24c7d2",
   "metadata": {},
   "outputs": [],
   "source": []
  }
 ],
 "metadata": {
  "kernelspec": {
   "display_name": "Python 3 (ipykernel)",
   "language": "python",
   "name": "python3"
  },
  "language_info": {
   "codemirror_mode": {
    "name": "ipython",
    "version": 3
   },
   "file_extension": ".py",
   "mimetype": "text/x-python",
   "name": "python",
   "nbconvert_exporter": "python",
   "pygments_lexer": "ipython3",
   "version": "3.9.10"
  }
 },
 "nbformat": 4,
 "nbformat_minor": 5
}
