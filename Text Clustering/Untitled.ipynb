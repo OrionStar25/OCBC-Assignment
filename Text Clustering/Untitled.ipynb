{
 "cells": [
  {
   "cell_type": "code",
   "execution_count": 1,
   "id": "877f2c72",
   "metadata": {},
   "outputs": [
    {
     "name": "stderr",
     "output_type": "stream",
     "text": [
      "/usr/local/lib/python3.9/site-packages/past/builtins/misc.py:45: DeprecationWarning: the imp module is deprecated in favour of importlib; see the module's documentation for alternative uses\n",
      "  from imp import reload\n",
      "/usr/local/lib/python3.9/site-packages/gensim/matutils.py:24: DeprecationWarning: Please use `triu` from the `scipy.linalg` namespace, the `scipy.linalg.special_matrices` namespace is deprecated.\n",
      "  from scipy.linalg.special_matrices import triu\n",
      "[nltk_data] Downloading package stopwords to\n",
      "[nltk_data]     /Users/niharikashrivastava/nltk_data...\n",
      "[nltk_data]   Package stopwords is already up-to-date!\n",
      "[nltk_data] Downloading package punkt to\n",
      "[nltk_data]     /Users/niharikashrivastava/nltk_data...\n",
      "[nltk_data]   Package punkt is already up-to-date!\n",
      "[nltk_data] Downloading package wordnet to\n",
      "[nltk_data]     /Users/niharikashrivastava/nltk_data...\n",
      "[nltk_data]   Package wordnet is already up-to-date!\n",
      "[nltk_data] Downloading package omw-1.4 to\n",
      "[nltk_data]     /Users/niharikashrivastava/nltk_data...\n",
      "[nltk_data]   Package omw-1.4 is already up-to-date!\n"
     ]
    }
   ],
   "source": [
    "import pandas as pd\n",
    "import seaborn as sns\n",
    "import nltk\n",
    "import sklearn\n",
    "import pyLDAvis.gensim_models\n",
    "import pkg_resources\n",
    "pkg_resources.require(\"gensim==3.8.3\")\n",
    "import gensim\n",
    "import matplotlib.pyplot as plt \n",
    "\n",
    "nltk.download('stopwords')\n",
    "nltk.download('punkt')\n",
    "nltk.download('wordnet')\n",
    "nltk.download('omw-1.4')\n",
    "\n",
    "from nltk.corpus import stopwords\n",
    "from nltk.stem import WordNetLemmatizer,PorterStemmer\n",
    "from nltk.tokenize import word_tokenize\n",
    "from collections import  Counter\n",
    "from sklearn.feature_extraction.text import CountVectorizer\n",
    "from gensim.models import CoherenceModel\n",
    "from pprint import pprint"
   ]
  },
  {
   "cell_type": "code",
   "execution_count": 2,
   "id": "2f659c95",
   "metadata": {},
   "outputs": [],
   "source": [
    "news_data = pd.read_csv('news_data.csv')"
   ]
  },
  {
   "cell_type": "code",
   "execution_count": 8,
   "id": "8564ce14",
   "metadata": {},
   "outputs": [
    {
     "data": {
      "text/plain": [
       "[['Davenport', 'hits', 'out', 'at', 'Wimbledon'],\n",
       " ['Camera', 'phones', 'are', \"'must-haves'\"],\n",
       " ['US', 'top', 'of', 'supercomputing', 'charts'],\n",
       " ['Trial', 'begins', 'of', \"Spain's\", 'top', 'banker'],\n",
       " ['Safety', 'alert', 'as', 'GM', 'recalls', 'cars'],\n",
       " ['Angry', 'Williams', 'rejects', 'criticism'],\n",
       " ['E-University', \"'disgraceful\", \"waste'\"],\n",
       " ['India', 'to', 'deport', 'Bollywood', 'actress'],\n",
       " ['Web', 'radio', 'takes', 'Spanish', 'rap', 'global'],\n",
       " ['Ailing', 'EuroDisney', 'vows', 'turnaround'],\n",
       " ['Eminem', 'beats', 'Elvis', 'to', 'number', 'one'],\n",
       " ['Rapper', '50', 'Cent', 'ends', 'protege', 'feud'],\n",
       " ['Director', \"Nair's\", 'Vanity', 'project'],\n",
       " ['Fast', 'lifts', 'rise', 'into', 'record', 'books'],\n",
       " ['GB', 'quartet', 'get', 'cross', 'country', 'call'],\n",
       " ['Ray', 'DVD', 'beats', 'box', 'office', 'takings'],\n",
       " ['Singer', 'Ferguson', \"'facing\", \"eviction'\"],\n",
       " ['Sir', 'Paul', 'rocks', 'Super', 'Bowl', 'crowds'],\n",
       " ['Dementieva', 'prevails', 'in', 'Hong', 'Kong'],\n",
       " ['Radcliffe', 'proves', 'doubters', 'wrong'],\n",
       " ['Wenger', 'rules', 'out', 'new', 'keeper'],\n",
       " ['Fit-again', 'Betsen', 'in', 'France', 'squad'],\n",
       " ['Double', 'injury', 'blow', 'strikes', 'Wales'],\n",
       " ['Ref', 'stands', 'by', 'Scotland', 'decisions'],\n",
       " ['Downing', 'injury', 'mars', 'Uefa', 'victory'],\n",
       " ['New', 'UKIP', 'defection', 'to', \"'Veritas'\"],\n",
       " ['Bath', 'faced', 'with', 'Tindall', 'ultimatum'],\n",
       " ['Paris', 'promise', 'raises', 'Welsh', 'hopes'],\n",
       " ['Souness', 'delight', 'at', 'Euro', 'progress'],\n",
       " ['Houllier', 'praises', 'Benitez', 'regime'],\n",
       " ['Analysis:', 'No', 'pain,', 'no', 'gain?'],\n",
       " ['Howard', 'denies', 'split', 'over', 'ID', 'cards'],\n",
       " ['Blair', 'pledges', 'unity', 'to', 'Labour', 'MPs'],\n",
       " ['Nat', 'Insurance', 'to', 'rise,', 'say', 'Tories'],\n",
       " ['Lib', 'Dems', 'stress', 'Budget', 'trust', 'gap'],\n",
       " ['UK', 'needs', 'tax', 'cuts,', 'Tories', 'insist'],\n",
       " ['Jowell', 'confirms', 'casino', 'climbdown'],\n",
       " ['PM', 'apology', 'over', 'jailings'],\n",
       " ['Brown', 'names', '16', 'March', 'for', 'Budget'],\n",
       " ['Blair', 'to', 'face', 'MPs', 'amid', 'feud', 'talk'],\n",
       " ['&#163;1.8m', 'indecency', 'fine', 'for', 'Viacom'],\n",
       " ['Standard', 'Life', 'cuts', 'policy', 'bonuses'],\n",
       " ['Cars', 'pull', 'down', 'US', 'retail', 'figures'],\n",
       " ['Broadband', 'soars', 'in', '2004'],\n",
       " [\"Brewers'\", 'profits', 'lose', 'their', 'fizz'],\n",
       " ['Chinese', 'exports', 'rise', '25%', 'in', '2004'],\n",
       " ['Huge', 'rush', 'for', 'Jet', 'Airways', 'shares'],\n",
       " ['Tsunami', \"'to\", 'hit', 'Sri', 'Lanka', \"banks'\"],\n",
       " ['Fresh', 'hope', 'after', 'Argentine', 'crisis'],\n",
       " ['UK', 'interest', 'rates', 'held', 'at', '4.75%'],\n",
       " ['Local', 'net', 'TV', 'takes', 'off', 'in', 'Austria'],\n",
       " ['Rich', 'pickings', 'for', 'hi-tech', 'thieves'],\n",
       " ['Apple', 'iPod', 'family', 'expands', 'market'],\n",
       " ['Iran', 'jails', 'blogger', 'for', '14', 'years'],\n",
       " ['Yahoo', 'moves', 'into', 'desktop', 'search'],\n",
       " ['More', 'women', 'turn', 'to', 'net', 'security'],\n",
       " ['Global', 'digital', 'divide', \"'narrowing'\"],\n",
       " ['Mobiles', 'get', 'set', 'for', 'visual', 'radio'],\n",
       " ['Cable', 'offers', 'video-on-demand'],\n",
       " ['Game', 'makers', 'get', 'Xbox', '2', 'sneak', 'peek']]"
      ]
     },
     "execution_count": 8,
     "metadata": {},
     "output_type": "execute_result"
    }
   ],
   "source": [
    "news_data['title'].str.split().values.tolist()"
   ]
  },
  {
   "cell_type": "code",
   "execution_count": null,
   "id": "2e772880",
   "metadata": {},
   "outputs": [],
   "source": []
  },
  {
   "cell_type": "code",
   "execution_count": null,
   "id": "b8d560f0",
   "metadata": {},
   "outputs": [],
   "source": []
  },
  {
   "cell_type": "code",
   "execution_count": null,
   "id": "baf28ccd",
   "metadata": {},
   "outputs": [],
   "source": []
  },
  {
   "cell_type": "code",
   "execution_count": null,
   "id": "9275c721",
   "metadata": {},
   "outputs": [],
   "source": []
  },
  {
   "cell_type": "code",
   "execution_count": null,
   "id": "840976cb",
   "metadata": {},
   "outputs": [],
   "source": []
  },
  {
   "cell_type": "code",
   "execution_count": null,
   "id": "5a9d868f",
   "metadata": {},
   "outputs": [],
   "source": []
  }
 ],
 "metadata": {
  "kernelspec": {
   "display_name": "Python 3 (ipykernel)",
   "language": "python",
   "name": "python3"
  },
  "language_info": {
   "codemirror_mode": {
    "name": "ipython",
    "version": 3
   },
   "file_extension": ".py",
   "mimetype": "text/x-python",
   "name": "python",
   "nbconvert_exporter": "python",
   "pygments_lexer": "ipython3",
   "version": "3.9.10"
  }
 },
 "nbformat": 4,
 "nbformat_minor": 5
}
